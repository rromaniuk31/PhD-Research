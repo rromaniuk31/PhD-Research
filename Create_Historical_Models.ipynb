{
 "cells": [
  {
   "cell_type": "markdown",
   "id": "2fe9261d-b6b3-40c9-a12d-139c507686a5",
   "metadata": {},
   "source": [
    "### Import Things"
   ]
  },
  {
   "cell_type": "code",
   "execution_count": 1,
   "id": "c6a04b06-0468-4846-80aa-376ed3181573",
   "metadata": {},
   "outputs": [],
   "source": [
    "import numpy as np\n",
    "import pandas as pd"
   ]
  },
  {
   "cell_type": "markdown",
   "id": "b9d9f7b3-9776-442c-b706-a2b84fc06588",
   "metadata": {},
   "source": [
    "### Get Data"
   ]
  },
  {
   "cell_type": "code",
   "execution_count": 3,
   "id": "12fe4cc1-1590-45f7-904c-485a6fbca4bd",
   "metadata": {},
   "outputs": [
    {
     "name": "stderr",
     "output_type": "stream",
     "text": [
      "/var/folders/5k/vm4wbtfd3hz2hq37wm4d1_8h0000gp/T/ipykernel_45444/517209628.py:3: DtypeWarning: Columns (45,46,47) have mixed types. Specify dtype option on import or set low_memory=False.\n",
      "  pbp = pd.read_csv(\"pbp.csv\")\n"
     ]
    },
    {
     "data": {
      "text/html": [
       "<div>\n",
       "<style scoped>\n",
       "    .dataframe tbody tr th:only-of-type {\n",
       "        vertical-align: middle;\n",
       "    }\n",
       "\n",
       "    .dataframe tbody tr th {\n",
       "        vertical-align: top;\n",
       "    }\n",
       "\n",
       "    .dataframe thead th {\n",
       "        text-align: right;\n",
       "    }\n",
       "</style>\n",
       "<table border=\"1\" class=\"dataframe\">\n",
       "  <thead>\n",
       "    <tr style=\"text-align: right;\">\n",
       "      <th></th>\n",
       "      <th>eventId</th>\n",
       "      <th>timeInPeriod</th>\n",
       "      <th>timeRemaining</th>\n",
       "      <th>situationCode</th>\n",
       "      <th>homeTeamDefendingSide</th>\n",
       "      <th>typeCode</th>\n",
       "      <th>typeDescKey</th>\n",
       "      <th>sortOrder</th>\n",
       "      <th>periodDescriptor.number</th>\n",
       "      <th>periodDescriptor.periodType</th>\n",
       "      <th>...</th>\n",
       "      <th>details.discreteClip</th>\n",
       "      <th>details.servedByPlayerId</th>\n",
       "      <th>gameId</th>\n",
       "      <th>periodDescriptor.otPeriods</th>\n",
       "      <th>pptReplayUrl</th>\n",
       "      <th>details.highlightClipSharingUrl</th>\n",
       "      <th>details.highlightClipSharingUrlFr</th>\n",
       "      <th>details.highlightClip</th>\n",
       "      <th>details.highlightClipFr</th>\n",
       "      <th>details.discreteClipFr</th>\n",
       "    </tr>\n",
       "  </thead>\n",
       "  <tbody>\n",
       "    <tr>\n",
       "      <th>0</th>\n",
       "      <td>51.0</td>\n",
       "      <td>00:00</td>\n",
       "      <td>20:00</td>\n",
       "      <td>1551.0</td>\n",
       "      <td>right</td>\n",
       "      <td>520.0</td>\n",
       "      <td>period-start</td>\n",
       "      <td>8.0</td>\n",
       "      <td>1.0</td>\n",
       "      <td>REG</td>\n",
       "      <td>...</td>\n",
       "      <td>NaN</td>\n",
       "      <td>NaN</td>\n",
       "      <td>2021010001</td>\n",
       "      <td>NaN</td>\n",
       "      <td>NaN</td>\n",
       "      <td>NaN</td>\n",
       "      <td>NaN</td>\n",
       "      <td>NaN</td>\n",
       "      <td>NaN</td>\n",
       "      <td>NaN</td>\n",
       "    </tr>\n",
       "    <tr>\n",
       "      <th>1</th>\n",
       "      <td>53.0</td>\n",
       "      <td>00:00</td>\n",
       "      <td>20:00</td>\n",
       "      <td>1551.0</td>\n",
       "      <td>right</td>\n",
       "      <td>502.0</td>\n",
       "      <td>faceoff</td>\n",
       "      <td>9.0</td>\n",
       "      <td>1.0</td>\n",
       "      <td>REG</td>\n",
       "      <td>...</td>\n",
       "      <td>NaN</td>\n",
       "      <td>NaN</td>\n",
       "      <td>2021010001</td>\n",
       "      <td>NaN</td>\n",
       "      <td>NaN</td>\n",
       "      <td>NaN</td>\n",
       "      <td>NaN</td>\n",
       "      <td>NaN</td>\n",
       "      <td>NaN</td>\n",
       "      <td>NaN</td>\n",
       "    </tr>\n",
       "    <tr>\n",
       "      <th>2</th>\n",
       "      <td>101.0</td>\n",
       "      <td>00:15</td>\n",
       "      <td>19:45</td>\n",
       "      <td>1551.0</td>\n",
       "      <td>right</td>\n",
       "      <td>503.0</td>\n",
       "      <td>hit</td>\n",
       "      <td>10.0</td>\n",
       "      <td>1.0</td>\n",
       "      <td>REG</td>\n",
       "      <td>...</td>\n",
       "      <td>NaN</td>\n",
       "      <td>NaN</td>\n",
       "      <td>2021010001</td>\n",
       "      <td>NaN</td>\n",
       "      <td>NaN</td>\n",
       "      <td>NaN</td>\n",
       "      <td>NaN</td>\n",
       "      <td>NaN</td>\n",
       "      <td>NaN</td>\n",
       "      <td>NaN</td>\n",
       "    </tr>\n",
       "    <tr>\n",
       "      <th>3</th>\n",
       "      <td>54.0</td>\n",
       "      <td>00:17</td>\n",
       "      <td>19:43</td>\n",
       "      <td>1551.0</td>\n",
       "      <td>right</td>\n",
       "      <td>506.0</td>\n",
       "      <td>shot-on-goal</td>\n",
       "      <td>11.0</td>\n",
       "      <td>1.0</td>\n",
       "      <td>REG</td>\n",
       "      <td>...</td>\n",
       "      <td>NaN</td>\n",
       "      <td>NaN</td>\n",
       "      <td>2021010001</td>\n",
       "      <td>NaN</td>\n",
       "      <td>NaN</td>\n",
       "      <td>NaN</td>\n",
       "      <td>NaN</td>\n",
       "      <td>NaN</td>\n",
       "      <td>NaN</td>\n",
       "      <td>NaN</td>\n",
       "    </tr>\n",
       "    <tr>\n",
       "      <th>4</th>\n",
       "      <td>55.0</td>\n",
       "      <td>00:27</td>\n",
       "      <td>19:33</td>\n",
       "      <td>1551.0</td>\n",
       "      <td>right</td>\n",
       "      <td>507.0</td>\n",
       "      <td>missed-shot</td>\n",
       "      <td>12.0</td>\n",
       "      <td>1.0</td>\n",
       "      <td>REG</td>\n",
       "      <td>...</td>\n",
       "      <td>NaN</td>\n",
       "      <td>NaN</td>\n",
       "      <td>2021010001</td>\n",
       "      <td>NaN</td>\n",
       "      <td>NaN</td>\n",
       "      <td>NaN</td>\n",
       "      <td>NaN</td>\n",
       "      <td>NaN</td>\n",
       "      <td>NaN</td>\n",
       "      <td>NaN</td>\n",
       "    </tr>\n",
       "  </tbody>\n",
       "</table>\n",
       "<p>5 rows × 51 columns</p>\n",
       "</div>"
      ],
      "text/plain": [
       "   eventId timeInPeriod timeRemaining  situationCode homeTeamDefendingSide  \\\n",
       "0     51.0        00:00         20:00         1551.0                 right   \n",
       "1     53.0        00:00         20:00         1551.0                 right   \n",
       "2    101.0        00:15         19:45         1551.0                 right   \n",
       "3     54.0        00:17         19:43         1551.0                 right   \n",
       "4     55.0        00:27         19:33         1551.0                 right   \n",
       "\n",
       "   typeCode   typeDescKey  sortOrder  periodDescriptor.number  \\\n",
       "0     520.0  period-start        8.0                      1.0   \n",
       "1     502.0       faceoff        9.0                      1.0   \n",
       "2     503.0           hit       10.0                      1.0   \n",
       "3     506.0  shot-on-goal       11.0                      1.0   \n",
       "4     507.0   missed-shot       12.0                      1.0   \n",
       "\n",
       "  periodDescriptor.periodType  ...  details.discreteClip  \\\n",
       "0                         REG  ...                   NaN   \n",
       "1                         REG  ...                   NaN   \n",
       "2                         REG  ...                   NaN   \n",
       "3                         REG  ...                   NaN   \n",
       "4                         REG  ...                   NaN   \n",
       "\n",
       "   details.servedByPlayerId      gameId  periodDescriptor.otPeriods  \\\n",
       "0                       NaN  2021010001                         NaN   \n",
       "1                       NaN  2021010001                         NaN   \n",
       "2                       NaN  2021010001                         NaN   \n",
       "3                       NaN  2021010001                         NaN   \n",
       "4                       NaN  2021010001                         NaN   \n",
       "\n",
       "   pptReplayUrl  details.highlightClipSharingUrl  \\\n",
       "0           NaN                              NaN   \n",
       "1           NaN                              NaN   \n",
       "2           NaN                              NaN   \n",
       "3           NaN                              NaN   \n",
       "4           NaN                              NaN   \n",
       "\n",
       "  details.highlightClipSharingUrlFr  details.highlightClip  \\\n",
       "0                               NaN                    NaN   \n",
       "1                               NaN                    NaN   \n",
       "2                               NaN                    NaN   \n",
       "3                               NaN                    NaN   \n",
       "4                               NaN                    NaN   \n",
       "\n",
       "   details.highlightClipFr details.discreteClipFr  \n",
       "0                      NaN                    NaN  \n",
       "1                      NaN                    NaN  \n",
       "2                      NaN                    NaN  \n",
       "3                      NaN                    NaN  \n",
       "4                      NaN                    NaN  \n",
       "\n",
       "[5 rows x 51 columns]"
      ]
     },
     "execution_count": 3,
     "metadata": {},
     "output_type": "execute_result"
    }
   ],
   "source": [
    "skaters = pd.read_csv(\"skaters.csv\")\n",
    "goalies = pd.read_csv(\"goalies.csv\")\n",
    "pbp = pd.read_csv(\"pbp.csv\")\n",
    "pbp.head()"
   ]
  },
  {
   "cell_type": "markdown",
   "id": "e5fe8833-1a07-4b9b-8e1c-0b7a30a9b35b",
   "metadata": {},
   "source": [
    "### Split Play-By-Play Into Train (2021-22, 2022-23, 2023-24) and Test (2024-25), Additionally Filter for Regular Season Only"
   ]
  },
  {
   "cell_type": "code",
   "execution_count": 22,
   "id": "7d2478cd-3d17-470f-904b-b9905662de14",
   "metadata": {},
   "outputs": [
    {
     "name": "stdout",
     "output_type": "stream",
     "text": [
      "Training events:  1404747\n",
      "Testing events:  479352\n"
     ]
    }
   ],
   "source": [
    "# Set \"gameId\" to a string\n",
    "pbp[\"gameId\"] = pbp[\"gameId\"].apply(str)\n",
    "\n",
    "# Split into training and testing events\n",
    "train_pbp = pbp.loc[pbp.gameId.str.startswith((\"2021\", \"2022\", \"2023\"), na=False)]\n",
    "test_pbp = pbp.loc[pbp.gameId.str.startswith(\"2024\", na=False)]\n",
    "print(\"Training events: \", len(train_pbp))\n",
    "print(\"Testing events: \", len(test_pbp))"
   ]
  },
  {
   "cell_type": "code",
   "execution_count": 36,
   "id": "4233ef7b-bff1-45e0-9348-f3ad0b277446",
   "metadata": {},
   "outputs": [
    {
     "name": "stdout",
     "output_type": "stream",
     "text": [
      "Training events:  1227064\n",
      "Testing events:  420073\n"
     ]
    }
   ],
   "source": [
    "# Keep only regular season games (remove pre-season and playoffs)\n",
    "train_pbp = train_pbp.loc[train_pbp[\"gameId\"].str[5] == \"2\"]\n",
    "test_pbp = test_pbp.loc[test_pbp[\"gameId\"].str[5] == \"2\"]\n",
    "print(\"Training events: \", len(train_pbp))\n",
    "print(\"Testing events: \", len(test_pbp))"
   ]
  },
  {
   "cell_type": "markdown",
   "id": "a5c13599-a1cb-4546-b410-87887aa4a073",
   "metadata": {},
   "source": [
    "### Functions to Return Subsets of Events"
   ]
  },
  {
   "cell_type": "code",
   "execution_count": 41,
   "id": "c3e3c016-ec06-401b-badb-21d8963055ae",
   "metadata": {},
   "outputs": [],
   "source": [
    "# Keep only shots and goals function\n",
    "def keep_SOG(df):\n",
    "    df = df[(df[\"typeDescKey\"] == \"shot-on-goal\") | (df[\"typeDescKey\"] == \"goal\")]\n",
    "\n",
    "    return(df)"
   ]
  },
  {
   "cell_type": "markdown",
   "id": "3798d178-e912-4113-916b-012bdfb1bf91",
   "metadata": {},
   "source": [
    "### Krzywicki (2005)"
   ]
  },
  {
   "cell_type": "code",
   "execution_count": null,
   "id": "61593473-2d74-414a-8d53-b5671caa8692",
   "metadata": {},
   "outputs": [],
   "source": [
    "# Variables\n",
    "# - Distance (<10ft, 10ft-12ft, 13ft-14ft, 15ft-16ft, 17ft-22ft, 23ft-31ft, 32ft-36ft, 37ft-38ft\n",
    "#             39ft-44ft, 45ft-57ft, >=58ft)\n",
    "# - Shot Type (Wrap, Slap, Wrist, Snap, Backhand, Tip)\n",
    "# - Rebound (Yes, No)\n",
    "# - Situation (Even Strength, Shorthanded, Powerplay)"
   ]
  },
  {
   "cell_type": "code",
   "execution_count": 43,
   "id": "6443cadb-e3d4-4e0d-855c-002ccb1232a5",
   "metadata": {},
   "outputs": [
    {
     "name": "stdout",
     "output_type": "stream",
     "text": [
      "Training shots:  246134\n",
      "Testing shots:  74641\n"
     ]
    }
   ],
   "source": [
    "train_pbp_krzy05 = keep_SOG(train_pbp)\n",
    "test_pbp_krzy05 = keep_SOG(test_pbp)\n",
    "print(\"Training shots: \", len(train_pbp_krzy05))\n",
    "print(\"Testing shots: \", len(test_pbp_krzy05))"
   ]
  },
  {
   "cell_type": "code",
   "execution_count": null,
   "id": "98032641-6dbd-4698-9b66-78356d911ea8",
   "metadata": {},
   "outputs": [],
   "source": []
  },
  {
   "cell_type": "code",
   "execution_count": null,
   "id": "d1b34dfc-f5c4-4f1b-bdf3-6e10daf71250",
   "metadata": {},
   "outputs": [],
   "source": []
  },
  {
   "cell_type": "code",
   "execution_count": null,
   "id": "49c650de-3cb9-4a54-9513-6af81e968769",
   "metadata": {},
   "outputs": [],
   "source": []
  },
  {
   "cell_type": "code",
   "execution_count": null,
   "id": "6320707c-6928-463f-b80a-e3f63e3c49cf",
   "metadata": {},
   "outputs": [],
   "source": []
  },
  {
   "cell_type": "code",
   "execution_count": null,
   "id": "3ce29e11-f759-4635-a7d2-876768eee445",
   "metadata": {},
   "outputs": [],
   "source": []
  },
  {
   "cell_type": "code",
   "execution_count": null,
   "id": "47720e60-6628-420c-a621-8d956f229bed",
   "metadata": {},
   "outputs": [],
   "source": []
  },
  {
   "cell_type": "code",
   "execution_count": null,
   "id": "52678fa6-297c-48db-a107-6085125a60c9",
   "metadata": {},
   "outputs": [],
   "source": []
  },
  {
   "cell_type": "code",
   "execution_count": null,
   "id": "b54305aa-4079-4d57-be84-45096714bf77",
   "metadata": {},
   "outputs": [],
   "source": []
  },
  {
   "cell_type": "code",
   "execution_count": null,
   "id": "c3433296-e6f8-4d42-b5d6-9e7fafc429db",
   "metadata": {},
   "outputs": [],
   "source": []
  },
  {
   "cell_type": "code",
   "execution_count": null,
   "id": "fa9b0a22-3f2a-4bbe-99f8-f09d2fb58ccf",
   "metadata": {},
   "outputs": [],
   "source": []
  },
  {
   "cell_type": "code",
   "execution_count": null,
   "id": "9ed0fd6f-2c9a-45d8-a0e9-b05cc26dbf62",
   "metadata": {},
   "outputs": [],
   "source": []
  },
  {
   "cell_type": "code",
   "execution_count": null,
   "id": "1a091122-6301-4d46-a4c3-3873dbe7877b",
   "metadata": {},
   "outputs": [],
   "source": []
  },
  {
   "cell_type": "code",
   "execution_count": null,
   "id": "94a4828f-38e1-4d4b-9fdd-47da5b52fa5a",
   "metadata": {},
   "outputs": [],
   "source": []
  },
  {
   "cell_type": "code",
   "execution_count": null,
   "id": "a2d8a219-b74c-4f9f-b30a-4b173f1ee9b3",
   "metadata": {},
   "outputs": [],
   "source": []
  },
  {
   "cell_type": "code",
   "execution_count": null,
   "id": "4809c62a-34d8-4920-92ee-af275f92c756",
   "metadata": {},
   "outputs": [],
   "source": []
  },
  {
   "cell_type": "code",
   "execution_count": null,
   "id": "73caa4c3-53fd-43f9-857c-8ec2f8e75ed4",
   "metadata": {},
   "outputs": [],
   "source": []
  }
 ],
 "metadata": {
  "kernelspec": {
   "display_name": "Python 3 (ipykernel)",
   "language": "python",
   "name": "python3"
  },
  "language_info": {
   "codemirror_mode": {
    "name": "ipython",
    "version": 3
   },
   "file_extension": ".py",
   "mimetype": "text/x-python",
   "name": "python",
   "nbconvert_exporter": "python",
   "pygments_lexer": "ipython3",
   "version": "3.11.5"
  }
 },
 "nbformat": 4,
 "nbformat_minor": 5
}
